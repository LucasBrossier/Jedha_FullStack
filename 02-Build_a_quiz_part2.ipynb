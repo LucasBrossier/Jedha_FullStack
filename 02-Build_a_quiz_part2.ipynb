{
 "cells": [
  {
   "cell_type": "markdown",
   "metadata": {},
   "source": [
    "# Build a quiz - Part 2"
   ]
  },
  {
   "cell_type": "markdown",
   "metadata": {},
   "source": [
    "Below is the code we wrote yesterday, that asks three questions to the user and allows up to 3 wrong answers :"
   ]
  },
  {
   "cell_type": "code",
   "execution_count": 1,
   "metadata": {
    "tags": []
   },
   "outputs": [
    {
     "name": "stdout",
     "output_type": "stream",
     "text": [
      "Welcome to our quizz!\n",
      "You have 3 lives.\n",
      "\n",
      "Question 1:\n",
      "Your answer : 3\n",
      "Sorry, you have 2 chances left\n",
      "Your answer : 2\n",
      "Question 2:\n",
      "Your answer : 1976\n",
      "Question 3:\n",
      "Your answer : steve jobs\n",
      "Sorry, you have 1 chances left\n",
      "Your answer : antoine krajnc\n",
      "Sorry, you have 0 chances left\n",
      "Oh no, you lost the quiz...\n"
     ]
    }
   ],
   "source": []
  },
  {
   "cell_type": "markdown",
   "metadata": {},
   "source": [
    "Let's refactor our quiz now that we know how to be dry.\n",
    "\n",
    "SPECs: \n",
    "\n",
    "* Your code should be DRY \n",
    "* You should use functions "
   ]
  },
  {
   "cell_type": "code",
   "execution_count": 3,
   "metadata": {
    "tags": []
   },
   "outputs": [
    {
     "name": "stdout",
     "output_type": "stream",
     "text": [
      "Congrats 2 is the right answer\n",
      "Sorry, you have 2 chances left\n",
      "Congrats 1976 is the right answer\n",
      "Congrats elon musk is the right answer\n",
      "Well done, you have win!\n"
     ]
    }
   ],
   "source": [
    "reponse = input('Quelle la capitale de la france')\n",
    "reponse = reponse.lower().replace(\"é\",\"e\")\n",
    "\n",
    "nombre_de_vies = 3\n",
    "\n",
    "while \n",
    "    if reponse != 'paris':\n",
    "    print('Too bad! that is not the correct answer')\n",
    "    reponse = (input('Quelle la capitale de la france'))\n",
    "    nombre_de_vies -= 1\n",
    "    \n",
    "    else:\n",
    "        if nombre_de_vies == 0 : \n",
    "            print(\"Too bad, you lost the game !\")\n",
    "\n",
    "print('Good job! This is the right answer')"
   ]
  },
  {
   "cell_type": "code",
   "execution_count": null,
   "metadata": {},
   "outputs": [],
   "source": [
    "def authenticite(reponse):\n",
    "    nombre_de_vies = 2\n",
    "    question1 (\"Combien d'angles dans un triangle ?\")\n",
    "    \n",
    "    question2 (\"Quelle année les émeutes de Soweto ?\")\n",
    "    \n",
    "    question3 (\"Qui est le créateur d'Apple ?\")\n",
    "    \n",
    "#boucle while\n",
    "@"
   ]
  },
  {
   "cell_type": "markdown",
   "metadata": {},
   "source": [
    "The solution above is considered more readable for the following reasons :\n",
    "* the instructions that were repeated before are now encapsulated in a function\n",
    "* the questions and answers are stored in one single list\n",
    "* we use a `for` loop to execute the function for each question "
   ]
  },
  {
   "cell_type": "code",
   "execution_count": null,
   "metadata": {},
   "outputs": [],
   "source": []
  }
 ],
 "metadata": {
  "kernelspec": {
   "display_name": "Python 3",
   "language": "python",
   "name": "python3"
  },
  "language_info": {
   "codemirror_mode": {
    "name": "ipython",
    "version": 3
   },
   "file_extension": ".py",
   "mimetype": "text/x-python",
   "name": "python",
   "nbconvert_exporter": "python",
   "pygments_lexer": "ipython3",
   "version": "3.8.6-final"
  }
 },
 "nbformat": 4,
 "nbformat_minor": 2
}
